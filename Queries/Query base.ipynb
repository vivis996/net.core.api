{
    "metadata": {
        "kernelspec": {
            "name": "SQL",
            "display_name": "SQL",
            "language": "sql"
        },
        "language_info": {
            "name": "sql",
            "version": ""
        }
    },
    "nbformat_minor": 2,
    "nbformat": 4,
    "cells": [
        {
            "cell_type": "markdown",
            "source": [
                "**All tables**"
            ],
            "metadata": {
                "azdata_cell_guid": "d850918a-b2cb-493f-a1d1-34e95ed91414"
            },
            "attachments": {}
        },
        {
            "cell_type": "code",
            "source": [
                "SELECT * FROM Characters\n",
                "SELECT * FROM Weapons\n",
                "SELECT * FROM Skills\n",
                "SELECT * FROM CharacterSkill"
            ],
            "metadata": {
                "azdata_cell_guid": "c0f2c52b-9934-44d6-8096-ff184913eb17",
                "tags": []
            },
            "outputs": [],
            "execution_count": null
        },
        {
            "cell_type": "markdown",
            "source": [
                "**Restore characters values**"
            ],
            "metadata": {
                "azdata_cell_guid": "179eac51-1887-4972-bac8-7dfa10c58f28"
            },
            "attachments": {}
        },
        {
            "cell_type": "code",
            "source": [
                "UPDATE Characters SET HitPoints =1250, Strength = 90, Defense= 120, Intelligence =125 WHERE Id = 1\n",
                "UPDATE Characters SET HitPoints =1150, Strength = 110, Defense= 100, Intelligence =112 WHERE Id = 5"
            ],
            "metadata": {
                "azdata_cell_guid": "b6faca07-f158-4b10-99bc-baab8d00ce42"
            },
            "outputs": [],
            "execution_count": null
        }
    ]
}